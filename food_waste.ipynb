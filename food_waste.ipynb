{
  "nbformat": 4,
  "nbformat_minor": 0,
  "metadata": {
    "colab": {
      "name": "food_waste.ipynb",
      "provenance": [],
      "collapsed_sections": [],
      "authorship_tag": "ABX9TyMpI6j82b+Tm7OPw3vhf2FP",
      "include_colab_link": true
    },
    "kernelspec": {
      "name": "python3",
      "display_name": "Python 3"
    },
    "language_info": {
      "name": "python"
    }
  },
  "cells": [
    {
      "cell_type": "markdown",
      "metadata": {
        "id": "view-in-github",
        "colab_type": "text"
      },
      "source": [
        "<a href=\"https://colab.research.google.com/github/freedom-780/A_B_test-/blob/main/food_waste.ipynb\" target=\"_parent\"><img src=\"https://colab.research.google.com/assets/colab-badge.svg\" alt=\"Open In Colab\"/></a>"
      ]
    },
    {
      "cell_type": "code",
      "execution_count": null,
      "metadata": {
        "id": "-pRyAoGAH_U3"
      },
      "outputs": [],
      "source": [
        ""
      ]
    },
    {
      "cell_type": "markdown",
      "source": [
        "## Introduction "
      ],
      "metadata": {
        "id": "QGKj0Z60KWDo"
      }
    },
    {
      "cell_type": "code",
      "source": [
        "# import packages \n",
        "import pandas as pd \n",
        "pd.options.display.float_format = '{:,.2f}'.format\n",
        "import numpy as np\n",
        "import seaborn as sns \n",
        "import matplotlib.pyplot as plt\n",
        "%matplotlib inline\n"
      ],
      "metadata": {
        "id": "mEzeGcFxKZm2"
      },
      "execution_count": null,
      "outputs": []
    },
    {
      "cell_type": "code",
      "source": [
        "# import data into a dataframe\n",
        "food_waste_data = \"https://raw.githubusercontent.com/freedom-780/foodwaste_capstone_project/main/food_waste_data.csv\"\n",
        "food_waste_df = pd.read_csv(food_waste_data)"
      ],
      "metadata": {
        "id": "DnI6EHPYKckd"
      },
      "execution_count": null,
      "outputs": []
    },
    {
      "cell_type": "code",
      "source": [
        "# make a copy of the original dataframe for analysis\n",
        "df = food_waste_df.copy()"
      ],
      "metadata": {
        "id": "t34E4U4fUcfd"
      },
      "execution_count": null,
      "outputs": []
    },
    {
      "cell_type": "code",
      "source": [
        "# explore the dataset \n",
        "df.sample(5).head().T"
      ],
      "metadata": {
        "colab": {
          "base_uri": "https://localhost:8080/",
          "height": 426
        },
        "id": "ooLpQK-uMyZK",
        "outputId": "4220cd3f-4d6b-48b5-e175-484515e36cfb"
      },
      "execution_count": 101,
      "outputs": [
        {
          "output_type": "execute_result",
          "data": {
            "text/plain": [
              "                                  7588                         7426  \\\n",
              "year                              2011                         2011   \n",
              "sector                     Residential                  Foodservice   \n",
              "sub_sector              Not Applicable  Limited Service Restaurants   \n",
              "sub_sector_category     Not Applicable                 Asian/noodle   \n",
              "food_type                    Dry Goods     Ready-to-drink Beverages   \n",
              "food_category           Salad Toppings               Not Applicable   \n",
              "tons_supply                  46,408.22                    36,085.86   \n",
              "tons_surplus                  6,497.15                       852.29   \n",
              "us_dollars_surplus       87,626,468.21                 4,366,030.49   \n",
              "tons_waste                    4,363.80                       563.36   \n",
              "total_mtco2e_footprint       29,393.94                     2,781.34   \n",
              "meals_wasted             10,828,584.28                 1,376,138.16   \n",
              "\n",
              "                                  4329            6325  \\\n",
              "year                              2015            2012   \n",
              "sector                          Retail            Farm   \n",
              "sub_sector              Not Applicable  Not Applicable   \n",
              "sub_sector_category     Not Applicable  Not Applicable   \n",
              "food_type                    Dry Goods         Produce   \n",
              "food_category                   Cereal          Lemons   \n",
              "tons_supply               1,686,822.51    1,105,113.29   \n",
              "tons_surplus                 34,748.54      330,405.87   \n",
              "us_dollars_surplus      211,951,749.10  183,594,368.70   \n",
              "tons_waste                   12,162.53      307,367.65   \n",
              "total_mtco2e_footprint       78,208.05       23,224.22   \n",
              "meals_wasted             46,848,329.24  543,212,565.30   \n",
              "\n",
              "                                               6512  \n",
              "year                                           2012  \n",
              "sector                                  Foodservice  \n",
              "sub_sector              Limited Service Restaurants  \n",
              "sub_sector_category                       All Other  \n",
              "food_type                              Dairy & Eggs  \n",
              "food_category                        Not Applicable  \n",
              "tons_supply                              827,110.73  \n",
              "tons_surplus                              19,535.12  \n",
              "us_dollars_surplus                    35,370,794.64  \n",
              "tons_waste                                16,449.19  \n",
              "total_mtco2e_footprint                    88,097.19  \n",
              "meals_wasted                          31,736,680.29  "
            ],
            "text/html": [
              "\n",
              "  <div id=\"df-3ac5fe0d-3f03-456e-8ddb-f9d734a63110\">\n",
              "    <div class=\"colab-df-container\">\n",
              "      <div>\n",
              "<style scoped>\n",
              "    .dataframe tbody tr th:only-of-type {\n",
              "        vertical-align: middle;\n",
              "    }\n",
              "\n",
              "    .dataframe tbody tr th {\n",
              "        vertical-align: top;\n",
              "    }\n",
              "\n",
              "    .dataframe thead th {\n",
              "        text-align: right;\n",
              "    }\n",
              "</style>\n",
              "<table border=\"1\" class=\"dataframe\">\n",
              "  <thead>\n",
              "    <tr style=\"text-align: right;\">\n",
              "      <th></th>\n",
              "      <th>7588</th>\n",
              "      <th>7426</th>\n",
              "      <th>4329</th>\n",
              "      <th>6325</th>\n",
              "      <th>6512</th>\n",
              "    </tr>\n",
              "  </thead>\n",
              "  <tbody>\n",
              "    <tr>\n",
              "      <th>year</th>\n",
              "      <td>2011</td>\n",
              "      <td>2011</td>\n",
              "      <td>2015</td>\n",
              "      <td>2012</td>\n",
              "      <td>2012</td>\n",
              "    </tr>\n",
              "    <tr>\n",
              "      <th>sector</th>\n",
              "      <td>Residential</td>\n",
              "      <td>Foodservice</td>\n",
              "      <td>Retail</td>\n",
              "      <td>Farm</td>\n",
              "      <td>Foodservice</td>\n",
              "    </tr>\n",
              "    <tr>\n",
              "      <th>sub_sector</th>\n",
              "      <td>Not Applicable</td>\n",
              "      <td>Limited Service Restaurants</td>\n",
              "      <td>Not Applicable</td>\n",
              "      <td>Not Applicable</td>\n",
              "      <td>Limited Service Restaurants</td>\n",
              "    </tr>\n",
              "    <tr>\n",
              "      <th>sub_sector_category</th>\n",
              "      <td>Not Applicable</td>\n",
              "      <td>Asian/noodle</td>\n",
              "      <td>Not Applicable</td>\n",
              "      <td>Not Applicable</td>\n",
              "      <td>All Other</td>\n",
              "    </tr>\n",
              "    <tr>\n",
              "      <th>food_type</th>\n",
              "      <td>Dry Goods</td>\n",
              "      <td>Ready-to-drink Beverages</td>\n",
              "      <td>Dry Goods</td>\n",
              "      <td>Produce</td>\n",
              "      <td>Dairy &amp; Eggs</td>\n",
              "    </tr>\n",
              "    <tr>\n",
              "      <th>food_category</th>\n",
              "      <td>Salad Toppings</td>\n",
              "      <td>Not Applicable</td>\n",
              "      <td>Cereal</td>\n",
              "      <td>Lemons</td>\n",
              "      <td>Not Applicable</td>\n",
              "    </tr>\n",
              "    <tr>\n",
              "      <th>tons_supply</th>\n",
              "      <td>46,408.22</td>\n",
              "      <td>36,085.86</td>\n",
              "      <td>1,686,822.51</td>\n",
              "      <td>1,105,113.29</td>\n",
              "      <td>827,110.73</td>\n",
              "    </tr>\n",
              "    <tr>\n",
              "      <th>tons_surplus</th>\n",
              "      <td>6,497.15</td>\n",
              "      <td>852.29</td>\n",
              "      <td>34,748.54</td>\n",
              "      <td>330,405.87</td>\n",
              "      <td>19,535.12</td>\n",
              "    </tr>\n",
              "    <tr>\n",
              "      <th>us_dollars_surplus</th>\n",
              "      <td>87,626,468.21</td>\n",
              "      <td>4,366,030.49</td>\n",
              "      <td>211,951,749.10</td>\n",
              "      <td>183,594,368.70</td>\n",
              "      <td>35,370,794.64</td>\n",
              "    </tr>\n",
              "    <tr>\n",
              "      <th>tons_waste</th>\n",
              "      <td>4,363.80</td>\n",
              "      <td>563.36</td>\n",
              "      <td>12,162.53</td>\n",
              "      <td>307,367.65</td>\n",
              "      <td>16,449.19</td>\n",
              "    </tr>\n",
              "    <tr>\n",
              "      <th>total_mtco2e_footprint</th>\n",
              "      <td>29,393.94</td>\n",
              "      <td>2,781.34</td>\n",
              "      <td>78,208.05</td>\n",
              "      <td>23,224.22</td>\n",
              "      <td>88,097.19</td>\n",
              "    </tr>\n",
              "    <tr>\n",
              "      <th>meals_wasted</th>\n",
              "      <td>10,828,584.28</td>\n",
              "      <td>1,376,138.16</td>\n",
              "      <td>46,848,329.24</td>\n",
              "      <td>543,212,565.30</td>\n",
              "      <td>31,736,680.29</td>\n",
              "    </tr>\n",
              "  </tbody>\n",
              "</table>\n",
              "</div>\n",
              "      <button class=\"colab-df-convert\" onclick=\"convertToInteractive('df-3ac5fe0d-3f03-456e-8ddb-f9d734a63110')\"\n",
              "              title=\"Convert this dataframe to an interactive table.\"\n",
              "              style=\"display:none;\">\n",
              "        \n",
              "  <svg xmlns=\"http://www.w3.org/2000/svg\" height=\"24px\"viewBox=\"0 0 24 24\"\n",
              "       width=\"24px\">\n",
              "    <path d=\"M0 0h24v24H0V0z\" fill=\"none\"/>\n",
              "    <path d=\"M18.56 5.44l.94 2.06.94-2.06 2.06-.94-2.06-.94-.94-2.06-.94 2.06-2.06.94zm-11 1L8.5 8.5l.94-2.06 2.06-.94-2.06-.94L8.5 2.5l-.94 2.06-2.06.94zm10 10l.94 2.06.94-2.06 2.06-.94-2.06-.94-.94-2.06-.94 2.06-2.06.94z\"/><path d=\"M17.41 7.96l-1.37-1.37c-.4-.4-.92-.59-1.43-.59-.52 0-1.04.2-1.43.59L10.3 9.45l-7.72 7.72c-.78.78-.78 2.05 0 2.83L4 21.41c.39.39.9.59 1.41.59.51 0 1.02-.2 1.41-.59l7.78-7.78 2.81-2.81c.8-.78.8-2.07 0-2.86zM5.41 20L4 18.59l7.72-7.72 1.47 1.35L5.41 20z\"/>\n",
              "  </svg>\n",
              "      </button>\n",
              "      \n",
              "  <style>\n",
              "    .colab-df-container {\n",
              "      display:flex;\n",
              "      flex-wrap:wrap;\n",
              "      gap: 12px;\n",
              "    }\n",
              "\n",
              "    .colab-df-convert {\n",
              "      background-color: #E8F0FE;\n",
              "      border: none;\n",
              "      border-radius: 50%;\n",
              "      cursor: pointer;\n",
              "      display: none;\n",
              "      fill: #1967D2;\n",
              "      height: 32px;\n",
              "      padding: 0 0 0 0;\n",
              "      width: 32px;\n",
              "    }\n",
              "\n",
              "    .colab-df-convert:hover {\n",
              "      background-color: #E2EBFA;\n",
              "      box-shadow: 0px 1px 2px rgba(60, 64, 67, 0.3), 0px 1px 3px 1px rgba(60, 64, 67, 0.15);\n",
              "      fill: #174EA6;\n",
              "    }\n",
              "\n",
              "    [theme=dark] .colab-df-convert {\n",
              "      background-color: #3B4455;\n",
              "      fill: #D2E3FC;\n",
              "    }\n",
              "\n",
              "    [theme=dark] .colab-df-convert:hover {\n",
              "      background-color: #434B5C;\n",
              "      box-shadow: 0px 1px 3px 1px rgba(0, 0, 0, 0.15);\n",
              "      filter: drop-shadow(0px 1px 2px rgba(0, 0, 0, 0.3));\n",
              "      fill: #FFFFFF;\n",
              "    }\n",
              "  </style>\n",
              "\n",
              "      <script>\n",
              "        const buttonEl =\n",
              "          document.querySelector('#df-3ac5fe0d-3f03-456e-8ddb-f9d734a63110 button.colab-df-convert');\n",
              "        buttonEl.style.display =\n",
              "          google.colab.kernel.accessAllowed ? 'block' : 'none';\n",
              "\n",
              "        async function convertToInteractive(key) {\n",
              "          const element = document.querySelector('#df-3ac5fe0d-3f03-456e-8ddb-f9d734a63110');\n",
              "          const dataTable =\n",
              "            await google.colab.kernel.invokeFunction('convertToInteractive',\n",
              "                                                     [key], {});\n",
              "          if (!dataTable) return;\n",
              "\n",
              "          const docLinkHtml = 'Like what you see? Visit the ' +\n",
              "            '<a target=\"_blank\" href=https://colab.research.google.com/notebooks/data_table.ipynb>data table notebook</a>'\n",
              "            + ' to learn more about interactive tables.';\n",
              "          element.innerHTML = '';\n",
              "          dataTable['output_type'] = 'display_data';\n",
              "          await google.colab.output.renderOutput(dataTable, element);\n",
              "          const docLink = document.createElement('div');\n",
              "          docLink.innerHTML = docLinkHtml;\n",
              "          element.appendChild(docLink);\n",
              "        }\n",
              "      </script>\n",
              "    </div>\n",
              "  </div>\n",
              "  "
            ]
          },
          "metadata": {},
          "execution_count": 101
        }
      ]
    },
    {
      "cell_type": "code",
      "source": [
        "# drop the columns that are not needed for this analysis \n",
        "\n",
        "df.drop(df.columns \\\n",
        ".difference(['year','sector','sub_sector','sub_sector_category','food_type', 'food_category','tons_supply','tons_surplus', \\\n",
        "       'us_dollars_surplus','tons_waste', 'total_mtco2e_footprint', 'meals_wasted']), 1, inplace=True)"
      ],
      "metadata": {
        "id": "yMfktyZI1SZG",
        "colab": {
          "base_uri": "https://localhost:8080/"
        },
        "outputId": "3f8b3a7e-6576-4e5c-c095-bcd52646b93c"
      },
      "execution_count": null,
      "outputs": [
        {
          "output_type": "stream",
          "name": "stderr",
          "text": [
            "/usr/local/lib/python3.7/dist-packages/ipykernel_launcher.py:3: FutureWarning: In a future version of pandas all arguments of DataFrame.drop except for the argument 'labels' will be keyword-only\n",
            "  This is separate from the ipykernel package so we can avoid doing imports until\n"
          ]
        }
      ]
    },
    {
      "cell_type": "code",
      "source": [
        "df.info()"
      ],
      "metadata": {
        "colab": {
          "base_uri": "https://localhost:8080/"
        },
        "id": "c6lqQ0KYM3Xv",
        "outputId": "beffa8b0-f258-4289-e71f-e6ea21ea1d1a"
      },
      "execution_count": null,
      "outputs": [
        {
          "output_type": "stream",
          "name": "stdout",
          "text": [
            "<class 'pandas.core.frame.DataFrame'>\n",
            "RangeIndex: 9035 entries, 0 to 9034\n",
            "Data columns (total 12 columns):\n",
            " #   Column                  Non-Null Count  Dtype  \n",
            "---  ------                  --------------  -----  \n",
            " 0   year                    9035 non-null   int64  \n",
            " 1   sector                  9035 non-null   object \n",
            " 2   sub_sector              9035 non-null   object \n",
            " 3   sub_sector_category     9035 non-null   object \n",
            " 4   food_type               9035 non-null   object \n",
            " 5   food_category           9035 non-null   object \n",
            " 6   tons_supply             9035 non-null   float64\n",
            " 7   tons_surplus            9035 non-null   float64\n",
            " 8   us_dollars_surplus      9035 non-null   float64\n",
            " 9   tons_waste              9035 non-null   float64\n",
            " 10  total_mtco2e_footprint  9035 non-null   float64\n",
            " 11  meals_wasted            9035 non-null   float64\n",
            "dtypes: float64(6), int64(1), object(5)\n",
            "memory usage: 847.2+ KB\n"
          ]
        }
      ]
    },
    {
      "cell_type": "code",
      "source": [
        "# Change the sector object dtypes to categories\n",
        "\n",
        "df_change_dtpye = {'sector':'category',\n",
        "                   'sub_sector':'category',\n",
        "                   'sub_sector_category':'category',\n",
        "                   'food_type':'category',\n",
        "                   'food_category':'category'\n",
        "\n",
        "                   }\n",
        "\n"
      ],
      "metadata": {
        "id": "_ojuKd4U_Vaf"
      },
      "execution_count": 52,
      "outputs": []
    },
    {
      "cell_type": "code",
      "source": [
        "df = df.astype(df_change_dtpye)\n"
      ],
      "metadata": {
        "id": "w1hLzFboBiGO"
      },
      "execution_count": 53,
      "outputs": []
    },
    {
      "cell_type": "code",
      "source": [
        "df.info()"
      ],
      "metadata": {
        "colab": {
          "base_uri": "https://localhost:8080/"
        },
        "id": "FjC_QS6-CLEp",
        "outputId": "fa5b6fcb-a580-4842-d17c-a70c4907c362"
      },
      "execution_count": 54,
      "outputs": [
        {
          "output_type": "stream",
          "name": "stdout",
          "text": [
            "<class 'pandas.core.frame.DataFrame'>\n",
            "RangeIndex: 9035 entries, 0 to 9034\n",
            "Data columns (total 12 columns):\n",
            " #   Column                  Non-Null Count  Dtype   \n",
            "---  ------                  --------------  -----   \n",
            " 0   year                    9035 non-null   int64   \n",
            " 1   sector                  9035 non-null   category\n",
            " 2   sub_sector              9035 non-null   category\n",
            " 3   sub_sector_category     9035 non-null   category\n",
            " 4   food_type               9035 non-null   category\n",
            " 5   food_category           9035 non-null   category\n",
            " 6   tons_supply             9035 non-null   float64 \n",
            " 7   tons_surplus            9035 non-null   float64 \n",
            " 8   us_dollars_surplus      9035 non-null   float64 \n",
            " 9   tons_waste              9035 non-null   float64 \n",
            " 10  total_mtco2e_footprint  9035 non-null   float64 \n",
            " 11  meals_wasted            9035 non-null   float64 \n",
            "dtypes: category(5), float64(6), int64(1)\n",
            "memory usage: 560.0 KB\n"
          ]
        }
      ]
    },
    {
      "cell_type": "code",
      "source": [
        "df.sample(5).head()"
      ],
      "metadata": {
        "colab": {
          "base_uri": "https://localhost:8080/",
          "height": 337
        },
        "id": "AttMn31-CZQn",
        "outputId": "0b969b05-8318-405c-ce3c-71603e734487"
      },
      "execution_count": 59,
      "outputs": [
        {
          "output_type": "execute_result",
          "data": {
            "text/plain": [
              "      year       sector                   sub_sector sub_sector_category  \\\n",
              "4075  2015  Residential               Not Applicable      Not Applicable   \n",
              "1148  2018  Foodservice  Limited Service Restaurants               Pizza   \n",
              "3762  2015  Foodservice     Full Service Restaurants         Varied Menu   \n",
              "4131  2015  Residential               Not Applicable      Not Applicable   \n",
              "6494  2012  Foodservice                   Healthcare      Long-term Care   \n",
              "\n",
              "                     food_type      food_category  tons_supply  tons_surplus  \\\n",
              "4075      Fresh Meat & Seafood  Meat Alternatives     9,329.82      1,865.96   \n",
              "1148           Breads & Bakery     Not Applicable    99,085.88      2,034.25   \n",
              "3762      Fresh Meat & Seafood     Not Applicable 1,039,862.33     24,560.00   \n",
              "4131            Prepared Foods   Handheld Entrees   309,096.67     74,183.20   \n",
              "6494  Ready-to-drink Beverages     Not Applicable    78,549.01      1,618.11   \n",
              "\n",
              "      us_dollars_surplus  tons_waste  total_mtco2e_footprint   meals_wasted  \n",
              "4075       20,450,416.50    1,374.77               20,980.49   3,109,939.86  \n",
              "1148        7,772,970.21    1,718.20                5,103.54   3,305,118.48  \n",
              "3762      107,856,984.40   20,646.96              283,277.53  39,898,237.50  \n",
              "4131      371,573,089.60   55,017.47              444,659.64 123,638,667.40  \n",
              "6494        7,094,423.19    1,376.61                5,396.30   2,629,550.16  "
            ],
            "text/html": [
              "\n",
              "  <div id=\"df-00b66875-7b40-44c4-95aa-1a1c356c563d\">\n",
              "    <div class=\"colab-df-container\">\n",
              "      <div>\n",
              "<style scoped>\n",
              "    .dataframe tbody tr th:only-of-type {\n",
              "        vertical-align: middle;\n",
              "    }\n",
              "\n",
              "    .dataframe tbody tr th {\n",
              "        vertical-align: top;\n",
              "    }\n",
              "\n",
              "    .dataframe thead th {\n",
              "        text-align: right;\n",
              "    }\n",
              "</style>\n",
              "<table border=\"1\" class=\"dataframe\">\n",
              "  <thead>\n",
              "    <tr style=\"text-align: right;\">\n",
              "      <th></th>\n",
              "      <th>year</th>\n",
              "      <th>sector</th>\n",
              "      <th>sub_sector</th>\n",
              "      <th>sub_sector_category</th>\n",
              "      <th>food_type</th>\n",
              "      <th>food_category</th>\n",
              "      <th>tons_supply</th>\n",
              "      <th>tons_surplus</th>\n",
              "      <th>us_dollars_surplus</th>\n",
              "      <th>tons_waste</th>\n",
              "      <th>total_mtco2e_footprint</th>\n",
              "      <th>meals_wasted</th>\n",
              "    </tr>\n",
              "  </thead>\n",
              "  <tbody>\n",
              "    <tr>\n",
              "      <th>4075</th>\n",
              "      <td>2015</td>\n",
              "      <td>Residential</td>\n",
              "      <td>Not Applicable</td>\n",
              "      <td>Not Applicable</td>\n",
              "      <td>Fresh Meat &amp; Seafood</td>\n",
              "      <td>Meat Alternatives</td>\n",
              "      <td>9,329.82</td>\n",
              "      <td>1,865.96</td>\n",
              "      <td>20,450,416.50</td>\n",
              "      <td>1,374.77</td>\n",
              "      <td>20,980.49</td>\n",
              "      <td>3,109,939.86</td>\n",
              "    </tr>\n",
              "    <tr>\n",
              "      <th>1148</th>\n",
              "      <td>2018</td>\n",
              "      <td>Foodservice</td>\n",
              "      <td>Limited Service Restaurants</td>\n",
              "      <td>Pizza</td>\n",
              "      <td>Breads &amp; Bakery</td>\n",
              "      <td>Not Applicable</td>\n",
              "      <td>99,085.88</td>\n",
              "      <td>2,034.25</td>\n",
              "      <td>7,772,970.21</td>\n",
              "      <td>1,718.20</td>\n",
              "      <td>5,103.54</td>\n",
              "      <td>3,305,118.48</td>\n",
              "    </tr>\n",
              "    <tr>\n",
              "      <th>3762</th>\n",
              "      <td>2015</td>\n",
              "      <td>Foodservice</td>\n",
              "      <td>Full Service Restaurants</td>\n",
              "      <td>Varied Menu</td>\n",
              "      <td>Fresh Meat &amp; Seafood</td>\n",
              "      <td>Not Applicable</td>\n",
              "      <td>1,039,862.33</td>\n",
              "      <td>24,560.00</td>\n",
              "      <td>107,856,984.40</td>\n",
              "      <td>20,646.96</td>\n",
              "      <td>283,277.53</td>\n",
              "      <td>39,898,237.50</td>\n",
              "    </tr>\n",
              "    <tr>\n",
              "      <th>4131</th>\n",
              "      <td>2015</td>\n",
              "      <td>Residential</td>\n",
              "      <td>Not Applicable</td>\n",
              "      <td>Not Applicable</td>\n",
              "      <td>Prepared Foods</td>\n",
              "      <td>Handheld Entrees</td>\n",
              "      <td>309,096.67</td>\n",
              "      <td>74,183.20</td>\n",
              "      <td>371,573,089.60</td>\n",
              "      <td>55,017.47</td>\n",
              "      <td>444,659.64</td>\n",
              "      <td>123,638,667.40</td>\n",
              "    </tr>\n",
              "    <tr>\n",
              "      <th>6494</th>\n",
              "      <td>2012</td>\n",
              "      <td>Foodservice</td>\n",
              "      <td>Healthcare</td>\n",
              "      <td>Long-term Care</td>\n",
              "      <td>Ready-to-drink Beverages</td>\n",
              "      <td>Not Applicable</td>\n",
              "      <td>78,549.01</td>\n",
              "      <td>1,618.11</td>\n",
              "      <td>7,094,423.19</td>\n",
              "      <td>1,376.61</td>\n",
              "      <td>5,396.30</td>\n",
              "      <td>2,629,550.16</td>\n",
              "    </tr>\n",
              "  </tbody>\n",
              "</table>\n",
              "</div>\n",
              "      <button class=\"colab-df-convert\" onclick=\"convertToInteractive('df-00b66875-7b40-44c4-95aa-1a1c356c563d')\"\n",
              "              title=\"Convert this dataframe to an interactive table.\"\n",
              "              style=\"display:none;\">\n",
              "        \n",
              "  <svg xmlns=\"http://www.w3.org/2000/svg\" height=\"24px\"viewBox=\"0 0 24 24\"\n",
              "       width=\"24px\">\n",
              "    <path d=\"M0 0h24v24H0V0z\" fill=\"none\"/>\n",
              "    <path d=\"M18.56 5.44l.94 2.06.94-2.06 2.06-.94-2.06-.94-.94-2.06-.94 2.06-2.06.94zm-11 1L8.5 8.5l.94-2.06 2.06-.94-2.06-.94L8.5 2.5l-.94 2.06-2.06.94zm10 10l.94 2.06.94-2.06 2.06-.94-2.06-.94-.94-2.06-.94 2.06-2.06.94z\"/><path d=\"M17.41 7.96l-1.37-1.37c-.4-.4-.92-.59-1.43-.59-.52 0-1.04.2-1.43.59L10.3 9.45l-7.72 7.72c-.78.78-.78 2.05 0 2.83L4 21.41c.39.39.9.59 1.41.59.51 0 1.02-.2 1.41-.59l7.78-7.78 2.81-2.81c.8-.78.8-2.07 0-2.86zM5.41 20L4 18.59l7.72-7.72 1.47 1.35L5.41 20z\"/>\n",
              "  </svg>\n",
              "      </button>\n",
              "      \n",
              "  <style>\n",
              "    .colab-df-container {\n",
              "      display:flex;\n",
              "      flex-wrap:wrap;\n",
              "      gap: 12px;\n",
              "    }\n",
              "\n",
              "    .colab-df-convert {\n",
              "      background-color: #E8F0FE;\n",
              "      border: none;\n",
              "      border-radius: 50%;\n",
              "      cursor: pointer;\n",
              "      display: none;\n",
              "      fill: #1967D2;\n",
              "      height: 32px;\n",
              "      padding: 0 0 0 0;\n",
              "      width: 32px;\n",
              "    }\n",
              "\n",
              "    .colab-df-convert:hover {\n",
              "      background-color: #E2EBFA;\n",
              "      box-shadow: 0px 1px 2px rgba(60, 64, 67, 0.3), 0px 1px 3px 1px rgba(60, 64, 67, 0.15);\n",
              "      fill: #174EA6;\n",
              "    }\n",
              "\n",
              "    [theme=dark] .colab-df-convert {\n",
              "      background-color: #3B4455;\n",
              "      fill: #D2E3FC;\n",
              "    }\n",
              "\n",
              "    [theme=dark] .colab-df-convert:hover {\n",
              "      background-color: #434B5C;\n",
              "      box-shadow: 0px 1px 3px 1px rgba(0, 0, 0, 0.15);\n",
              "      filter: drop-shadow(0px 1px 2px rgba(0, 0, 0, 0.3));\n",
              "      fill: #FFFFFF;\n",
              "    }\n",
              "  </style>\n",
              "\n",
              "      <script>\n",
              "        const buttonEl =\n",
              "          document.querySelector('#df-00b66875-7b40-44c4-95aa-1a1c356c563d button.colab-df-convert');\n",
              "        buttonEl.style.display =\n",
              "          google.colab.kernel.accessAllowed ? 'block' : 'none';\n",
              "\n",
              "        async function convertToInteractive(key) {\n",
              "          const element = document.querySelector('#df-00b66875-7b40-44c4-95aa-1a1c356c563d');\n",
              "          const dataTable =\n",
              "            await google.colab.kernel.invokeFunction('convertToInteractive',\n",
              "                                                     [key], {});\n",
              "          if (!dataTable) return;\n",
              "\n",
              "          const docLinkHtml = 'Like what you see? Visit the ' +\n",
              "            '<a target=\"_blank\" href=https://colab.research.google.com/notebooks/data_table.ipynb>data table notebook</a>'\n",
              "            + ' to learn more about interactive tables.';\n",
              "          element.innerHTML = '';\n",
              "          dataTable['output_type'] = 'display_data';\n",
              "          await google.colab.output.renderOutput(dataTable, element);\n",
              "          const docLink = document.createElement('div');\n",
              "          docLink.innerHTML = docLinkHtml;\n",
              "          element.appendChild(docLink);\n",
              "        }\n",
              "      </script>\n",
              "    </div>\n",
              "  </div>\n",
              "  "
            ]
          },
          "metadata": {},
          "execution_count": 59
        }
      ]
    },
    {
      "cell_type": "code",
      "source": [
        "df.nunique()"
      ],
      "metadata": {
        "colab": {
          "base_uri": "https://localhost:8080/"
        },
        "id": "KM4uKRq3M9OU",
        "outputId": "46c46c41-adee-4d20-bd4c-f7a6daceff1a"
      },
      "execution_count": 55,
      "outputs": [
        {
          "output_type": "execute_result",
          "data": {
            "text/plain": [
              "year                        10\n",
              "sector                       5\n",
              "sub_sector                  16\n",
              "sub_sector_category         33\n",
              "food_type                    8\n",
              "food_category              287\n",
              "tons_supply               8664\n",
              "tons_surplus              9033\n",
              "us_dollars_surplus        9025\n",
              "tons_waste                9033\n",
              "total_mtco2e_footprint    9033\n",
              "meals_wasted              9033\n",
              "dtype: int64"
            ]
          },
          "metadata": {},
          "execution_count": 55
        }
      ]
    },
    {
      "cell_type": "code",
      "source": [
        "# print statistics about mass shootings data\n",
        "\n",
        "print(f\"Shape of food waste data: {food_waste_df.shape}\")\n",
        "print(f\"Number of mission values in food waste data: \\\n",
        "{food_waste_df.isnull().sum().sum()}\")\n",
        "print(f\"Number of duplicate values in food waste data: \\\n",
        "{food_waste_df.duplicated().sum()}\")"
      ],
      "metadata": {
        "colab": {
          "base_uri": "https://localhost:8080/"
        },
        "id": "TEew1yTvNxzL",
        "outputId": "ace364a3-6892-4396-b1bb-e10bf0876006"
      },
      "execution_count": 56,
      "outputs": [
        {
          "output_type": "stream",
          "name": "stdout",
          "text": [
            "Shape of food waste data: (9035, 28)\n",
            "Number of mission values in food waste data: 0\n",
            "Number of duplicate values in food waste data: 0\n"
          ]
        }
      ]
    },
    {
      "cell_type": "code",
      "source": [
        "df.groupby(['food_type', 'food_category'])['total_mtco2e_footprint']"
      ],
      "metadata": {
        "colab": {
          "base_uri": "https://localhost:8080/"
        },
        "id": "xJBa6wRmsmQe",
        "outputId": "0caf3521-ce4b-4e35-cecc-57e8ce388e40"
      },
      "execution_count": 61,
      "outputs": [
        {
          "output_type": "execute_result",
          "data": {
            "text/plain": [
              "<pandas.core.groupby.generic.SeriesGroupBy object at 0x7f35d40b6990>"
            ]
          },
          "metadata": {},
          "execution_count": 61
        }
      ]
    },
    {
      "cell_type": "code",
      "source": [
        "# do some stats on the categories t test, chi, bootstrapping to see the difference in food categories"
      ],
      "metadata": {
        "id": "KeNEU61x-wfI"
      },
      "execution_count": null,
      "outputs": []
    },
    {
      "cell_type": "code",
      "source": [
        ""
      ],
      "metadata": {
        "id": "C62SatJnr6on"
      },
      "execution_count": null,
      "outputs": []
    },
    {
      "cell_type": "code",
      "source": [
        "\n",
        "df.food_type.value_counts(normalize=True )\n"
      ],
      "metadata": {
        "colab": {
          "base_uri": "https://localhost:8080/"
        },
        "id": "WI7A2jfEbfoD",
        "outputId": "41e6598d-4570-4319-fb0b-4214a217def6"
      },
      "execution_count": 36,
      "outputs": [
        {
          "output_type": "execute_result",
          "data": {
            "text/plain": [
              "pandas.core.series.Series"
            ]
          },
          "metadata": {},
          "execution_count": 36
        }
      ]
    },
    {
      "cell_type": "code",
      "source": [
        "sns.catplot(y ='food_type', data= df, kind ='count')"
      ],
      "metadata": {
        "id": "tYx-DKfMveAv",
        "colab": {
          "base_uri": "https://localhost:8080/",
          "height": 386
        },
        "outputId": "58a931ff-eb33-4d82-c1e7-aa5c2e93fb99"
      },
      "execution_count": 72,
      "outputs": [
        {
          "output_type": "execute_result",
          "data": {
            "text/plain": [
              "<seaborn.axisgrid.FacetGrid at 0x7f35d3f6f550>"
            ]
          },
          "metadata": {},
          "execution_count": 72
        },
        {
          "output_type": "display_data",
          "data": {
            "text/plain": [
              "<Figure size 360x360 with 1 Axes>"
            ],
            "image/png": "[encoded data removed]"
          },
          "metadata": {
            "needs_background": "light"
          }
        }
      ]
    },
    {
      "cell_type": "code",
      "source": [
        ""
      ],
      "metadata": {
        "colab": {
          "base_uri": "https://localhost:8080/"
        },
        "id": "-lkeHFsqJUs3",
        "outputId": "79a21e9a-5d91-4eac-c618-0b8f5fcc3b22"
      },
      "execution_count": 80,
      "outputs": [
        {
          "output_type": "execute_result",
          "data": {
            "text/plain": [
              "<pandas.core.groupby.generic.DataFrameGroupBy object at 0x7f35d60f1890>"
            ]
          },
          "metadata": {},
          "execution_count": 80
        }
      ]
    },
    {
      "cell_type": "markdown",
      "source": [
        "The categories produce, Dry Goods, and the Fresh Meat & Seafood make up about 50% of the values"
      ],
      "metadata": {
        "id": "dpr4fot6tCuQ"
      }
    },
    {
      "cell_type": "code",
      "source": [
        "pd.DataFrame(df.groupby(['sector', 'food_type'])).describe()"
      ],
      "metadata": {
        "id": "ntMstPZ_s8H6",
        "colab": {
          "base_uri": "https://localhost:8080/",
          "height": 175
        },
        "outputId": "e55574dd-3259-46a3-d977-1993db2aa649"
      },
      "execution_count": 81,
      "outputs": [
        {
          "output_type": "execute_result",
          "data": {
            "text/plain": [
              "                        0                                                  1\n",
              "count                  34                                                 34\n",
              "unique                 34                                                 34\n",
              "top     (Farm, Dry Goods)        year sector      sub_sector sub_sector_c...\n",
              "freq                    1                                                  1"
            ],
            "text/html": [
              "\n",
              "  <div id=\"df-ac39c5e5-10ee-4bad-b599-0473fad617dd\">\n",
              "    <div class=\"colab-df-container\">\n",
              "      <div>\n",
              "<style scoped>\n",
              "    .dataframe tbody tr th:only-of-type {\n",
              "        vertical-align: middle;\n",
              "    }\n",
              "\n",
              "    .dataframe tbody tr th {\n",
              "        vertical-align: top;\n",
              "    }\n",
              "\n",
              "    .dataframe thead th {\n",
              "        text-align: right;\n",
              "    }\n",
              "</style>\n",
              "<table border=\"1\" class=\"dataframe\">\n",
              "  <thead>\n",
              "    <tr style=\"text-align: right;\">\n",
              "      <th></th>\n",
              "      <th>0</th>\n",
              "      <th>1</th>\n",
              "    </tr>\n",
              "  </thead>\n",
              "  <tbody>\n",
              "    <tr>\n",
              "      <th>count</th>\n",
              "      <td>34</td>\n",
              "      <td>34</td>\n",
              "    </tr>\n",
              "    <tr>\n",
              "      <th>unique</th>\n",
              "      <td>34</td>\n",
              "      <td>34</td>\n",
              "    </tr>\n",
              "    <tr>\n",
              "      <th>top</th>\n",
              "      <td>(Farm, Dry Goods)</td>\n",
              "      <td>year sector      sub_sector sub_sector_c...</td>\n",
              "    </tr>\n",
              "    <tr>\n",
              "      <th>freq</th>\n",
              "      <td>1</td>\n",
              "      <td>1</td>\n",
              "    </tr>\n",
              "  </tbody>\n",
              "</table>\n",
              "</div>\n",
              "      <button class=\"colab-df-convert\" onclick=\"convertToInteractive('df-ac39c5e5-10ee-4bad-b599-0473fad617dd')\"\n",
              "              title=\"Convert this dataframe to an interactive table.\"\n",
              "              style=\"display:none;\">\n",
              "        \n",
              "  <svg xmlns=\"http://www.w3.org/2000/svg\" height=\"24px\"viewBox=\"0 0 24 24\"\n",
              "       width=\"24px\">\n",
              "    <path d=\"M0 0h24v24H0V0z\" fill=\"none\"/>\n",
              "    <path d=\"M18.56 5.44l.94 2.06.94-2.06 2.06-.94-2.06-.94-.94-2.06-.94 2.06-2.06.94zm-11 1L8.5 8.5l.94-2.06 2.06-.94-2.06-.94L8.5 2.5l-.94 2.06-2.06.94zm10 10l.94 2.06.94-2.06 2.06-.94-2.06-.94-.94-2.06-.94 2.06-2.06.94z\"/><path d=\"M17.41 7.96l-1.37-1.37c-.4-.4-.92-.59-1.43-.59-.52 0-1.04.2-1.43.59L10.3 9.45l-7.72 7.72c-.78.78-.78 2.05 0 2.83L4 21.41c.39.39.9.59 1.41.59.51 0 1.02-.2 1.41-.59l7.78-7.78 2.81-2.81c.8-.78.8-2.07 0-2.86zM5.41 20L4 18.59l7.72-7.72 1.47 1.35L5.41 20z\"/>\n",
              "  </svg>\n",
              "      </button>\n",
              "      \n",
              "  <style>\n",
              "    .colab-df-container {\n",
              "      display:flex;\n",
              "      flex-wrap:wrap;\n",
              "      gap: 12px;\n",
              "    }\n",
              "\n",
              "    .colab-df-convert {\n",
              "      background-color: #E8F0FE;\n",
              "      border: none;\n",
              "      border-radius: 50%;\n",
              "      cursor: pointer;\n",
              "      display: none;\n",
              "      fill: #1967D2;\n",
              "      height: 32px;\n",
              "      padding: 0 0 0 0;\n",
              "      width: 32px;\n",
              "    }\n",
              "\n",
              "    .colab-df-convert:hover {\n",
              "      background-color: #E2EBFA;\n",
              "      box-shadow: 0px 1px 2px rgba(60, 64, 67, 0.3), 0px 1px 3px 1px rgba(60, 64, 67, 0.15);\n",
              "      fill: #174EA6;\n",
              "    }\n",
              "\n",
              "    [theme=dark] .colab-df-convert {\n",
              "      background-color: #3B4455;\n",
              "      fill: #D2E3FC;\n",
              "    }\n",
              "\n",
              "    [theme=dark] .colab-df-convert:hover {\n",
              "      background-color: #434B5C;\n",
              "      box-shadow: 0px 1px 3px 1px rgba(0, 0, 0, 0.15);\n",
              "      filter: drop-shadow(0px 1px 2px rgba(0, 0, 0, 0.3));\n",
              "      fill: #FFFFFF;\n",
              "    }\n",
              "  </style>\n",
              "\n",
              "      <script>\n",
              "        const buttonEl =\n",
              "          document.querySelector('#df-ac39c5e5-10ee-4bad-b599-0473fad617dd button.colab-df-convert');\n",
              "        buttonEl.style.display =\n",
              "          google.colab.kernel.accessAllowed ? 'block' : 'none';\n",
              "\n",
              "        async function convertToInteractive(key) {\n",
              "          const element = document.querySelector('#df-ac39c5e5-10ee-4bad-b599-0473fad617dd');\n",
              "          const dataTable =\n",
              "            await google.colab.kernel.invokeFunction('convertToInteractive',\n",
              "                                                     [key], {});\n",
              "          if (!dataTable) return;\n",
              "\n",
              "          const docLinkHtml = 'Like what you see? Visit the ' +\n",
              "            '<a target=\"_blank\" href=https://colab.research.google.com/notebooks/data_table.ipynb>data table notebook</a>'\n",
              "            + ' to learn more about interactive tables.';\n",
              "          element.innerHTML = '';\n",
              "          dataTable['output_type'] = 'display_data';\n",
              "          await google.colab.output.renderOutput(dataTable, element);\n",
              "          const docLink = document.createElement('div');\n",
              "          docLink.innerHTML = docLinkHtml;\n",
              "          element.appendChild(docLink);\n",
              "        }\n",
              "      </script>\n",
              "    </div>\n",
              "  </div>\n",
              "  "
            ]
          },
          "metadata": {},
          "execution_count": 81
        }
      ]
    },
    {
      "cell_type": "code",
      "source": [
        "pd.set_option('display.max_rows', 1000)"
      ],
      "metadata": {
        "id": "wV-BJO4PqjFy"
      },
      "execution_count": null,
      "outputs": []
    },
    {
      "cell_type": "code",
      "source": [
        "df.sample(5)"
      ],
      "metadata": {
        "colab": {
          "base_uri": "https://localhost:8080/",
          "height": 386
        },
        "id": "b81XZItU7RG2",
        "outputId": "079cf044-6195-4955-c608-faeadffe4994"
      },
      "execution_count": null,
      "outputs": [
        {
          "output_type": "execute_result",
          "data": {
            "text/plain": [
              "      year       sector      sub_sector sub_sector_category  food_type  \\\n",
              "881   2019       Retail  Not Applicable      Not Applicable    Produce   \n",
              "10    2019         Farm  Not Applicable      Not Applicable    Produce   \n",
              "2479  2017       Retail  Not Applicable      Not Applicable  Dry Goods   \n",
              "4940  2014  Residential  Not Applicable      Not Applicable  Dry Goods   \n",
              "5342  2014       Retail  Not Applicable      Not Applicable    Produce   \n",
              "\n",
              "        food_category  tons_supply  tons_surplus  us_dollars_surplus  \\\n",
              "881          Avocados   750,515.14    142,776.48      680,452,917.40   \n",
              "10         Sweet Corn 3,298,234.04    286,446.75       99,625,325.60   \n",
              "2479      Coffee Pods   119,975.68      2,471.50       97,614,165.02   \n",
              "4940  Cranberry Sauce    43,119.85      7,843.37       25,304,108.44   \n",
              "5342       Sweet Corn   435,191.92      9,614.08       13,618,140.19   \n",
              "\n",
              "      tons_waste  ...  tons_incineration  tons_land_application  \\\n",
              "881    49,974.00  ...           6,194.10               1,668.41   \n",
              "10    188,396.57  ...             420.61                   0.00   \n",
              "2479      865.06  ...             124.82                  28.88   \n",
              "4940    5,267.99  ...             718.81                   0.00   \n",
              "5342    3,365.08  ...             419.73                 112.34   \n",
              "\n",
              "      tons_landfilled  tons_dumping  tons_sewer  upstream_mtco2e_footprint  \\\n",
              "881         42,111.50          0.00        0.00                 128,149.52   \n",
              "10           3,196.40     34,845.52        0.00                  60,103.90   \n",
              "2479           711.37          0.00        0.00                   5,376.72   \n",
              "4940         3,726.88          0.00      822.30                  34,404.14   \n",
              "5342         2,833.00          0.00        0.00                   8,629.15   \n",
              "\n",
              "      downstream_mtco2e_footprint  total_mtco2e_footprint  \\\n",
              "881                      9,516.01              137,665.53   \n",
              "10                     -20,827.43               39,276.47   \n",
              "2479                       167.08                5,543.80   \n",
              "4940                       964.85               35,368.99   \n",
              "5342                       640.77                9,269.92   \n",
              "\n",
              "      gallons_water_footprint   meals_wasted  \n",
              "881          4,694,926,315.00 192,492,655.80  \n",
              "10           7,632,066,513.00 465,938,260.30  \n",
              "2479           193,445,419.30   3,332,099.24  \n",
              "4940           758,913,128.90  13,072,286.06  \n",
              "5342           316,140,258.40  12,961,796.18  \n",
              "\n",
              "[5 rows x 28 columns]"
            ],
            "text/html": [
              "\n",
              "  <div id=\"df-5d18e59a-f26b-40e1-8d93-63396682847e\">\n",
              "    <div class=\"colab-df-container\">\n",
              "      <div>\n",
              "<style scoped>\n",
              "    .dataframe tbody tr th:only-of-type {\n",
              "        vertical-align: middle;\n",
              "    }\n",
              "\n",
              "    .dataframe tbody tr th {\n",
              "        vertical-align: top;\n",
              "    }\n",
              "\n",
              "    .dataframe thead th {\n",
              "        text-align: right;\n",
              "    }\n",
              "</style>\n",
              "<table border=\"1\" class=\"dataframe\">\n",
              "  <thead>\n",
              "    <tr style=\"text-align: right;\">\n",
              "      <th></th>\n",
              "      <th>year</th>\n",
              "      <th>sector</th>\n",
              "      <th>sub_sector</th>\n",
              "      <th>sub_sector_category</th>\n",
              "      <th>food_type</th>\n",
              "      <th>food_category</th>\n",
              "      <th>tons_supply</th>\n",
              "      <th>tons_surplus</th>\n",
              "      <th>us_dollars_surplus</th>\n",
              "      <th>tons_waste</th>\n",
              "      <th>...</th>\n",
              "      <th>tons_incineration</th>\n",
              "      <th>tons_land_application</th>\n",
              "      <th>tons_landfilled</th>\n",
              "      <th>tons_dumping</th>\n",
              "      <th>tons_sewer</th>\n",
              "      <th>upstream_mtco2e_footprint</th>\n",
              "      <th>downstream_mtco2e_footprint</th>\n",
              "      <th>total_mtco2e_footprint</th>\n",
              "      <th>gallons_water_footprint</th>\n",
              "      <th>meals_wasted</th>\n",
              "    </tr>\n",
              "  </thead>\n",
              "  <tbody>\n",
              "    <tr>\n",
              "      <th>881</th>\n",
              "      <td>2019</td>\n",
              "      <td>Retail</td>\n",
              "      <td>Not Applicable</td>\n",
              "      <td>Not Applicable</td>\n",
              "      <td>Produce</td>\n",
              "      <td>Avocados</td>\n",
              "      <td>750,515.14</td>\n",
              "      <td>142,776.48</td>\n",
              "      <td>680,452,917.40</td>\n",
              "      <td>49,974.00</td>\n",
              "      <td>...</td>\n",
              "      <td>6,194.10</td>\n",
              "      <td>1,668.41</td>\n",
              "      <td>42,111.50</td>\n",
              "      <td>0.00</td>\n",
              "      <td>0.00</td>\n",
              "      <td>128,149.52</td>\n",
              "      <td>9,516.01</td>\n",
              "      <td>137,665.53</td>\n",
              "      <td>4,694,926,315.00</td>\n",
              "      <td>192,492,655.80</td>\n",
              "    </tr>\n",
              "    <tr>\n",
              "      <th>10</th>\n",
              "      <td>2019</td>\n",
              "      <td>Farm</td>\n",
              "      <td>Not Applicable</td>\n",
              "      <td>Not Applicable</td>\n",
              "      <td>Produce</td>\n",
              "      <td>Sweet Corn</td>\n",
              "      <td>3,298,234.04</td>\n",
              "      <td>286,446.75</td>\n",
              "      <td>99,625,325.60</td>\n",
              "      <td>188,396.57</td>\n",
              "      <td>...</td>\n",
              "      <td>420.61</td>\n",
              "      <td>0.00</td>\n",
              "      <td>3,196.40</td>\n",
              "      <td>34,845.52</td>\n",
              "      <td>0.00</td>\n",
              "      <td>60,103.90</td>\n",
              "      <td>-20,827.43</td>\n",
              "      <td>39,276.47</td>\n",
              "      <td>7,632,066,513.00</td>\n",
              "      <td>465,938,260.30</td>\n",
              "    </tr>\n",
              "    <tr>\n",
              "      <th>2479</th>\n",
              "      <td>2017</td>\n",
              "      <td>Retail</td>\n",
              "      <td>Not Applicable</td>\n",
              "      <td>Not Applicable</td>\n",
              "      <td>Dry Goods</td>\n",
              "      <td>Coffee Pods</td>\n",
              "      <td>119,975.68</td>\n",
              "      <td>2,471.50</td>\n",
              "      <td>97,614,165.02</td>\n",
              "      <td>865.06</td>\n",
              "      <td>...</td>\n",
              "      <td>124.82</td>\n",
              "      <td>28.88</td>\n",
              "      <td>711.37</td>\n",
              "      <td>0.00</td>\n",
              "      <td>0.00</td>\n",
              "      <td>5,376.72</td>\n",
              "      <td>167.08</td>\n",
              "      <td>5,543.80</td>\n",
              "      <td>193,445,419.30</td>\n",
              "      <td>3,332,099.24</td>\n",
              "    </tr>\n",
              "    <tr>\n",
              "      <th>4940</th>\n",
              "      <td>2014</td>\n",
              "      <td>Residential</td>\n",
              "      <td>Not Applicable</td>\n",
              "      <td>Not Applicable</td>\n",
              "      <td>Dry Goods</td>\n",
              "      <td>Cranberry Sauce</td>\n",
              "      <td>43,119.85</td>\n",
              "      <td>7,843.37</td>\n",
              "      <td>25,304,108.44</td>\n",
              "      <td>5,267.99</td>\n",
              "      <td>...</td>\n",
              "      <td>718.81</td>\n",
              "      <td>0.00</td>\n",
              "      <td>3,726.88</td>\n",
              "      <td>0.00</td>\n",
              "      <td>822.30</td>\n",
              "      <td>34,404.14</td>\n",
              "      <td>964.85</td>\n",
              "      <td>35,368.99</td>\n",
              "      <td>758,913,128.90</td>\n",
              "      <td>13,072,286.06</td>\n",
              "    </tr>\n",
              "    <tr>\n",
              "      <th>5342</th>\n",
              "      <td>2014</td>\n",
              "      <td>Retail</td>\n",
              "      <td>Not Applicable</td>\n",
              "      <td>Not Applicable</td>\n",
              "      <td>Produce</td>\n",
              "      <td>Sweet Corn</td>\n",
              "      <td>435,191.92</td>\n",
              "      <td>9,614.08</td>\n",
              "      <td>13,618,140.19</td>\n",
              "      <td>3,365.08</td>\n",
              "      <td>...</td>\n",
              "      <td>419.73</td>\n",
              "      <td>112.34</td>\n",
              "      <td>2,833.00</td>\n",
              "      <td>0.00</td>\n",
              "      <td>0.00</td>\n",
              "      <td>8,629.15</td>\n",
              "      <td>640.77</td>\n",
              "      <td>9,269.92</td>\n",
              "      <td>316,140,258.40</td>\n",
              "      <td>12,961,796.18</td>\n",
              "    </tr>\n",
              "  </tbody>\n",
              "</table>\n",
              "<p>5 rows × 28 columns</p>\n",
              "</div>\n",
              "      <button class=\"colab-df-convert\" onclick=\"convertToInteractive('df-5d18e59a-f26b-40e1-8d93-63396682847e')\"\n",
              "              title=\"Convert this dataframe to an interactive table.\"\n",
              "              style=\"display:none;\">\n",
              "        \n",
              "  <svg xmlns=\"http://www.w3.org/2000/svg\" height=\"24px\"viewBox=\"0 0 24 24\"\n",
              "       width=\"24px\">\n",
              "    <path d=\"M0 0h24v24H0V0z\" fill=\"none\"/>\n",
              "    <path d=\"M18.56 5.44l.94 2.06.94-2.06 2.06-.94-2.06-.94-.94-2.06-.94 2.06-2.06.94zm-11 1L8.5 8.5l.94-2.06 2.06-.94-2.06-.94L8.5 2.5l-.94 2.06-2.06.94zm10 10l.94 2.06.94-2.06 2.06-.94-2.06-.94-.94-2.06-.94 2.06-2.06.94z\"/><path d=\"M17.41 7.96l-1.37-1.37c-.4-.4-.92-.59-1.43-.59-.52 0-1.04.2-1.43.59L10.3 9.45l-7.72 7.72c-.78.78-.78 2.05 0 2.83L4 21.41c.39.39.9.59 1.41.59.51 0 1.02-.2 1.41-.59l7.78-7.78 2.81-2.81c.8-.78.8-2.07 0-2.86zM5.41 20L4 18.59l7.72-7.72 1.47 1.35L5.41 20z\"/>\n",
              "  </svg>\n",
              "      </button>\n",
              "      \n",
              "  <style>\n",
              "    .colab-df-container {\n",
              "      display:flex;\n",
              "      flex-wrap:wrap;\n",
              "      gap: 12px;\n",
              "    }\n",
              "\n",
              "    .colab-df-convert {\n",
              "      background-color: #E8F0FE;\n",
              "      border: none;\n",
              "      border-radius: 50%;\n",
              "      cursor: pointer;\n",
              "      display: none;\n",
              "      fill: #1967D2;\n",
              "      height: 32px;\n",
              "      padding: 0 0 0 0;\n",
              "      width: 32px;\n",
              "    }\n",
              "\n",
              "    .colab-df-convert:hover {\n",
              "      background-color: #E2EBFA;\n",
              "      box-shadow: 0px 1px 2px rgba(60, 64, 67, 0.3), 0px 1px 3px 1px rgba(60, 64, 67, 0.15);\n",
              "      fill: #174EA6;\n",
              "    }\n",
              "\n",
              "    [theme=dark] .colab-df-convert {\n",
              "      background-color: #3B4455;\n",
              "      fill: #D2E3FC;\n",
              "    }\n",
              "\n",
              "    [theme=dark] .colab-df-convert:hover {\n",
              "      background-color: #434B5C;\n",
              "      box-shadow: 0px 1px 3px 1px rgba(0, 0, 0, 0.15);\n",
              "      filter: drop-shadow(0px 1px 2px rgba(0, 0, 0, 0.3));\n",
              "      fill: #FFFFFF;\n",
              "    }\n",
              "  </style>\n",
              "\n",
              "      <script>\n",
              "        const buttonEl =\n",
              "          document.querySelector('#df-5d18e59a-f26b-40e1-8d93-63396682847e button.colab-df-convert');\n",
              "        buttonEl.style.display =\n",
              "          google.colab.kernel.accessAllowed ? 'block' : 'none';\n",
              "\n",
              "        async function convertToInteractive(key) {\n",
              "          const element = document.querySelector('#df-5d18e59a-f26b-40e1-8d93-63396682847e');\n",
              "          const dataTable =\n",
              "            await google.colab.kernel.invokeFunction('convertToInteractive',\n",
              "                                                     [key], {});\n",
              "          if (!dataTable) return;\n",
              "\n",
              "          const docLinkHtml = 'Like what you see? Visit the ' +\n",
              "            '<a target=\"_blank\" href=https://colab.research.google.com/notebooks/data_table.ipynb>data table notebook</a>'\n",
              "            + ' to learn more about interactive tables.';\n",
              "          element.innerHTML = '';\n",
              "          dataTable['output_type'] = 'display_data';\n",
              "          await google.colab.output.renderOutput(dataTable, element);\n",
              "          const docLink = document.createElement('div');\n",
              "          docLink.innerHTML = docLinkHtml;\n",
              "          element.appendChild(docLink);\n",
              "        }\n",
              "      </script>\n",
              "    </div>\n",
              "  </div>\n",
              "  "
            ]
          },
          "metadata": {},
          "execution_count": 55
        }
      ]
    },
    {
      "cell_type": "code",
      "source": [
        "plt.hist(df.total_mtco2e_footprint)\n",
        "plt.axvline(df.total_mtco2e_footprint.mean(), color='red', linestyle='dashed', linewidth=1)\n",
        "plt.title(\"Histogram of total_mtco2e_footprint\")\n",
        "plt.xlabel(\"Average mtco2e\")\n",
        "plt.ylabel(\"Frequency\")\n",
        "plt.show();"
      ],
      "metadata": {
        "colab": {
          "base_uri": "https://localhost:8080/",
          "height": 518
        },
        "id": "2ikGghkfvOM9",
        "outputId": "69594234-5a4d-427f-e915-ef7ee834f256"
      },
      "execution_count": 105,
      "outputs": [
        {
          "output_type": "display_data",
          "data": {
            "text/plain": [
              "<Figure size 1080x576 with 1 Axes>"
            ],
            "image/png": "[encoded data removed]"
          },
          "metadata": {}
        }
      ]
    },
    {
      "cell_type": "code",
      "source": [
        "sns.set(rc = {'figure.figsize':(15,8)})\n",
        "plt.tight_layout()\n",
        "df.hist(bins = 50);\n"
      ],
      "metadata": {
        "id": "c13aRp0dwZbD",
        "colab": {
          "base_uri": "https://localhost:8080/",
          "height": 531
        },
        "outputId": "4fc52b0e-b1b7-47d8-af56-7406f0f81d38"
      },
      "execution_count": 106,
      "outputs": [
        {
          "output_type": "display_data",
          "data": {
            "text/plain": [
              "<Figure size 1080x576 with 0 Axes>"
            ]
          },
          "metadata": {}
        },
        {
          "output_type": "display_data",
          "data": {
            "text/plain": [
              "<Figure size 1080x576 with 9 Axes>"
            ],
            "image/png": "[encoded data removed]"
          },
          "metadata": {}
        }
      ]
    },
    {
      "cell_type": "code",
      "source": [
        "sns.boxplot(data=df)\n",
        "plt.tight_layout()\n",
        "\n"
      ],
      "metadata": {
        "colab": {
          "base_uri": "https://localhost:8080/",
          "height": 598
        },
        "id": "Zo6IRkvCoUq-",
        "outputId": "458dd206-86c7-4c1b-c5a1-9fb670edf8f0"
      },
      "execution_count": 119,
      "outputs": [
        {
          "output_type": "execute_result",
          "data": {
            "text/plain": [
              "<matplotlib.axes._subplots.AxesSubplot at 0x7f35d2899410>"
            ]
          },
          "metadata": {},
          "execution_count": 119
        },
        {
          "output_type": "display_data",
          "data": {
            "text/plain": [
              "<Figure size 1080x576 with 1 Axes>"
            ],
            "image/png": "[encoded data removed]"
          },
          "metadata": {}
        }
      ]
    },
    {
      "cell_type": "markdown",
      "source": [
        "Sees like they have pretty much the same distribution but with different scales"
      ],
      "metadata": {
        "id": "OrpcRE4zOiR4"
      }
    },
    {
      "cell_type": "code",
      "source": [
        "df.corr(method=\"pearson\")"
      ],
      "metadata": {
        "colab": {
          "base_uri": "https://localhost:8080/",
          "height": 269
        },
        "id": "P6mjeF-3LYOb",
        "outputId": "0b937b0c-37d4-463d-9573-8d4f219919a6"
      },
      "execution_count": 98,
      "outputs": [
        {
          "output_type": "execute_result",
          "data": {
            "text/plain": [
              "                        year  tons_supply  tons_surplus  us_dollars_surplus  \\\n",
              "year                    1.00         0.01          0.01                0.02   \n",
              "tons_supply             0.01         1.00          0.71                0.28   \n",
              "tons_surplus            0.01         0.71          1.00                0.57   \n",
              "us_dollars_surplus      0.02         0.28          0.57                1.00   \n",
              "tons_waste              0.01         0.57          0.90                0.48   \n",
              "total_mtco2e_footprint  0.01         0.55          0.78                0.68   \n",
              "meals_wasted            0.01         0.71          1.00                0.58   \n",
              "\n",
              "                        tons_waste  total_mtco2e_footprint  meals_wasted  \n",
              "year                          0.01                    0.01          0.01  \n",
              "tons_supply                   0.57                    0.55          0.71  \n",
              "tons_surplus                  0.90                    0.78          1.00  \n",
              "us_dollars_surplus            0.48                    0.68          0.58  \n",
              "tons_waste                    1.00                    0.68          0.90  \n",
              "total_mtco2e_footprint        0.68                    1.00          0.78  \n",
              "meals_wasted                  0.90                    0.78          1.00  "
            ],
            "text/html": [
              "\n",
              "  <div id=\"df-5203f00d-4f95-4f8f-90d1-079f569f67fd\">\n",
              "    <div class=\"colab-df-container\">\n",
              "      <div>\n",
              "<style scoped>\n",
              "    .dataframe tbody tr th:only-of-type {\n",
              "        vertical-align: middle;\n",
              "    }\n",
              "\n",
              "    .dataframe tbody tr th {\n",
              "        vertical-align: top;\n",
              "    }\n",
              "\n",
              "    .dataframe thead th {\n",
              "        text-align: right;\n",
              "    }\n",
              "</style>\n",
              "<table border=\"1\" class=\"dataframe\">\n",
              "  <thead>\n",
              "    <tr style=\"text-align: right;\">\n",
              "      <th></th>\n",
              "      <th>year</th>\n",
              "      <th>tons_supply</th>\n",
              "      <th>tons_surplus</th>\n",
              "      <th>us_dollars_surplus</th>\n",
              "      <th>tons_waste</th>\n",
              "      <th>total_mtco2e_footprint</th>\n",
              "      <th>meals_wasted</th>\n",
              "    </tr>\n",
              "  </thead>\n",
              "  <tbody>\n",
              "    <tr>\n",
              "      <th>year</th>\n",
              "      <td>1.00</td>\n",
              "      <td>0.01</td>\n",
              "      <td>0.01</td>\n",
              "      <td>0.02</td>\n",
              "      <td>0.01</td>\n",
              "      <td>0.01</td>\n",
              "      <td>0.01</td>\n",
              "    </tr>\n",
              "    <tr>\n",
              "      <th>tons_supply</th>\n",
              "      <td>0.01</td>\n",
              "      <td>1.00</td>\n",
              "      <td>0.71</td>\n",
              "      <td>0.28</td>\n",
              "      <td>0.57</td>\n",
              "      <td>0.55</td>\n",
              "      <td>0.71</td>\n",
              "    </tr>\n",
              "    <tr>\n",
              "      <th>tons_surplus</th>\n",
              "      <td>0.01</td>\n",
              "      <td>0.71</td>\n",
              "      <td>1.00</td>\n",
              "      <td>0.57</td>\n",
              "      <td>0.90</td>\n",
              "      <td>0.78</td>\n",
              "      <td>1.00</td>\n",
              "    </tr>\n",
              "    <tr>\n",
              "      <th>us_dollars_surplus</th>\n",
              "      <td>0.02</td>\n",
              "      <td>0.28</td>\n",
              "      <td>0.57</td>\n",
              "      <td>1.00</td>\n",
              "      <td>0.48</td>\n",
              "      <td>0.68</td>\n",
              "      <td>0.58</td>\n",
              "    </tr>\n",
              "    <tr>\n",
              "      <th>tons_waste</th>\n",
              "      <td>0.01</td>\n",
              "      <td>0.57</td>\n",
              "      <td>0.90</td>\n",
              "      <td>0.48</td>\n",
              "      <td>1.00</td>\n",
              "      <td>0.68</td>\n",
              "      <td>0.90</td>\n",
              "    </tr>\n",
              "    <tr>\n",
              "      <th>total_mtco2e_footprint</th>\n",
              "      <td>0.01</td>\n",
              "      <td>0.55</td>\n",
              "      <td>0.78</td>\n",
              "      <td>0.68</td>\n",
              "      <td>0.68</td>\n",
              "      <td>1.00</td>\n",
              "      <td>0.78</td>\n",
              "    </tr>\n",
              "    <tr>\n",
              "      <th>meals_wasted</th>\n",
              "      <td>0.01</td>\n",
              "      <td>0.71</td>\n",
              "      <td>1.00</td>\n",
              "      <td>0.58</td>\n",
              "      <td>0.90</td>\n",
              "      <td>0.78</td>\n",
              "      <td>1.00</td>\n",
              "    </tr>\n",
              "  </tbody>\n",
              "</table>\n",
              "</div>\n",
              "      <button class=\"colab-df-convert\" onclick=\"convertToInteractive('df-5203f00d-4f95-4f8f-90d1-079f569f67fd')\"\n",
              "              title=\"Convert this dataframe to an interactive table.\"\n",
              "              style=\"display:none;\">\n",
              "        \n",
              "  <svg xmlns=\"http://www.w3.org/2000/svg\" height=\"24px\"viewBox=\"0 0 24 24\"\n",
              "       width=\"24px\">\n",
              "    <path d=\"M0 0h24v24H0V0z\" fill=\"none\"/>\n",
              "    <path d=\"M18.56 5.44l.94 2.06.94-2.06 2.06-.94-2.06-.94-.94-2.06-.94 2.06-2.06.94zm-11 1L8.5 8.5l.94-2.06 2.06-.94-2.06-.94L8.5 2.5l-.94 2.06-2.06.94zm10 10l.94 2.06.94-2.06 2.06-.94-2.06-.94-.94-2.06-.94 2.06-2.06.94z\"/><path d=\"M17.41 7.96l-1.37-1.37c-.4-.4-.92-.59-1.43-.59-.52 0-1.04.2-1.43.59L10.3 9.45l-7.72 7.72c-.78.78-.78 2.05 0 2.83L4 21.41c.39.39.9.59 1.41.59.51 0 1.02-.2 1.41-.59l7.78-7.78 2.81-2.81c.8-.78.8-2.07 0-2.86zM5.41 20L4 18.59l7.72-7.72 1.47 1.35L5.41 20z\"/>\n",
              "  </svg>\n",
              "      </button>\n",
              "      \n",
              "  <style>\n",
              "    .colab-df-container {\n",
              "      display:flex;\n",
              "      flex-wrap:wrap;\n",
              "      gap: 12px;\n",
              "    }\n",
              "\n",
              "    .colab-df-convert {\n",
              "      background-color: #E8F0FE;\n",
              "      border: none;\n",
              "      border-radius: 50%;\n",
              "      cursor: pointer;\n",
              "      display: none;\n",
              "      fill: #1967D2;\n",
              "      height: 32px;\n",
              "      padding: 0 0 0 0;\n",
              "      width: 32px;\n",
              "    }\n",
              "\n",
              "    .colab-df-convert:hover {\n",
              "      background-color: #E2EBFA;\n",
              "      box-shadow: 0px 1px 2px rgba(60, 64, 67, 0.3), 0px 1px 3px 1px rgba(60, 64, 67, 0.15);\n",
              "      fill: #174EA6;\n",
              "    }\n",
              "\n",
              "    [theme=dark] .colab-df-convert {\n",
              "      background-color: #3B4455;\n",
              "      fill: #D2E3FC;\n",
              "    }\n",
              "\n",
              "    [theme=dark] .colab-df-convert:hover {\n",
              "      background-color: #434B5C;\n",
              "      box-shadow: 0px 1px 3px 1px rgba(0, 0, 0, 0.15);\n",
              "      filter: drop-shadow(0px 1px 2px rgba(0, 0, 0, 0.3));\n",
              "      fill: #FFFFFF;\n",
              "    }\n",
              "  </style>\n",
              "\n",
              "      <script>\n",
              "        const buttonEl =\n",
              "          document.querySelector('#df-5203f00d-4f95-4f8f-90d1-079f569f67fd button.colab-df-convert');\n",
              "        buttonEl.style.display =\n",
              "          google.colab.kernel.accessAllowed ? 'block' : 'none';\n",
              "\n",
              "        async function convertToInteractive(key) {\n",
              "          const element = document.querySelector('#df-5203f00d-4f95-4f8f-90d1-079f569f67fd');\n",
              "          const dataTable =\n",
              "            await google.colab.kernel.invokeFunction('convertToInteractive',\n",
              "                                                     [key], {});\n",
              "          if (!dataTable) return;\n",
              "\n",
              "          const docLinkHtml = 'Like what you see? Visit the ' +\n",
              "            '<a target=\"_blank\" href=https://colab.research.google.com/notebooks/data_table.ipynb>data table notebook</a>'\n",
              "            + ' to learn more about interactive tables.';\n",
              "          element.innerHTML = '';\n",
              "          dataTable['output_type'] = 'display_data';\n",
              "          await google.colab.output.renderOutput(dataTable, element);\n",
              "          const docLink = document.createElement('div');\n",
              "          docLink.innerHTML = docLinkHtml;\n",
              "          element.appendChild(docLink);\n",
              "        }\n",
              "      </script>\n",
              "    </div>\n",
              "  </div>\n",
              "  "
            ]
          },
          "metadata": {},
          "execution_count": 98
        }
      ]
    },
    {
      "cell_type": "code",
      "source": [
        ""
      ],
      "metadata": {
        "id": "fgdXyMUrPFxn"
      },
      "execution_count": null,
      "outputs": []
    }
  ]
}